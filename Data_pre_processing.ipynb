{
  "nbformat": 4,
  "nbformat_minor": 0,
  "metadata": {
    "colab": {
      "name": "Data pre-processing.ipynb",
      "provenance": [],
      "collapsed_sections": [],
      "toc_visible": true
    },
    "kernelspec": {
      "name": "python3",
      "display_name": "Python 3"
    }
  },
  "cells": [
    {
      "cell_type": "code",
      "metadata": {
        "colab": {
          "base_uri": "https://localhost:8080/"
        },
        "id": "UJzEsb8YwTpF",
        "outputId": "d122b347-ba50-4104-ff86-f055833c834d"
      },
      "source": [
        "cd drive"
      ],
      "execution_count": null,
      "outputs": [
        {
          "output_type": "stream",
          "text": [
            "/content/drive\n"
          ],
          "name": "stdout"
        }
      ]
    },
    {
      "cell_type": "code",
      "metadata": {
        "colab": {
          "base_uri": "https://localhost:8080/"
        },
        "id": "VNXOHR9Jw9Y-",
        "outputId": "075d9aeb-47a7-43cc-a332-cc337d58caef"
      },
      "source": [
        "cd MyDrive/"
      ],
      "execution_count": null,
      "outputs": [
        {
          "output_type": "stream",
          "text": [
            "/content/drive/MyDrive\n"
          ],
          "name": "stdout"
        }
      ]
    },
    {
      "cell_type": "code",
      "metadata": {
        "colab": {
          "base_uri": "https://localhost:8080/"
        },
        "id": "89WWaiCGw_MN",
        "outputId": "a2db4d96-453f-4c7e-c8a6-212d8429e119"
      },
      "source": [
        "cd Global\\ Terrorism"
      ],
      "execution_count": null,
      "outputs": [
        {
          "output_type": "stream",
          "text": [
            "/content/drive/MyDrive/Global Terrorism\n"
          ],
          "name": "stdout"
        }
      ]
    },
    {
      "cell_type": "code",
      "metadata": {
        "id": "lkmon3k41KbP"
      },
      "source": [
        "import pandas as pd\r\n",
        "import numpy as np\r\n",
        "import seaborn as sns\r\n",
        "import matplotlib.pyplot as plt\r\n",
        "import math\r\n",
        "import warnings\r\n",
        "warnings.filterwarnings(\"ignore\")"
      ],
      "execution_count": null,
      "outputs": []
    },
    {
      "cell_type": "code",
      "metadata": {
        "id": "WOJXIcMNxAkm"
      },
      "source": [
        "import pandas as pd\r\n",
        "df= pd.read_csv(\"GLT.csv\",encoding='ISO-8859-1',low_memory=False)"
      ],
      "execution_count": null,
      "outputs": []
    },
    {
      "cell_type": "code",
      "metadata": {
        "colab": {
          "base_uri": "https://localhost:8080/",
          "height": 372
        },
        "id": "n7yGtHFuxDss",
        "outputId": "15e11980-7fa6-44b7-c961-e8c46859a854"
      },
      "source": [
        "df.head(5)"
      ],
      "execution_count": null,
      "outputs": [
        {
          "output_type": "execute_result",
          "data": {
            "text/html": [
              "<div>\n",
              "<style scoped>\n",
              "    .dataframe tbody tr th:only-of-type {\n",
              "        vertical-align: middle;\n",
              "    }\n",
              "\n",
              "    .dataframe tbody tr th {\n",
              "        vertical-align: top;\n",
              "    }\n",
              "\n",
              "    .dataframe thead th {\n",
              "        text-align: right;\n",
              "    }\n",
              "</style>\n",
              "<table border=\"1\" class=\"dataframe\">\n",
              "  <thead>\n",
              "    <tr style=\"text-align: right;\">\n",
              "      <th></th>\n",
              "      <th>eventid</th>\n",
              "      <th>iyear</th>\n",
              "      <th>imonth</th>\n",
              "      <th>iday</th>\n",
              "      <th>approxdate</th>\n",
              "      <th>extended</th>\n",
              "      <th>resolution</th>\n",
              "      <th>country</th>\n",
              "      <th>country_txt</th>\n",
              "      <th>region</th>\n",
              "      <th>region_txt</th>\n",
              "      <th>provstate</th>\n",
              "      <th>city</th>\n",
              "      <th>latitude</th>\n",
              "      <th>longitude</th>\n",
              "      <th>specificity</th>\n",
              "      <th>vicinity</th>\n",
              "      <th>location</th>\n",
              "      <th>summary</th>\n",
              "      <th>crit1</th>\n",
              "      <th>crit2</th>\n",
              "      <th>crit3</th>\n",
              "      <th>doubtterr</th>\n",
              "      <th>alternative</th>\n",
              "      <th>alternative_txt</th>\n",
              "      <th>multiple</th>\n",
              "      <th>success</th>\n",
              "      <th>suicide</th>\n",
              "      <th>attacktype1</th>\n",
              "      <th>attacktype1_txt</th>\n",
              "      <th>attacktype2</th>\n",
              "      <th>attacktype2_txt</th>\n",
              "      <th>attacktype3</th>\n",
              "      <th>attacktype3_txt</th>\n",
              "      <th>targtype1</th>\n",
              "      <th>targtype1_txt</th>\n",
              "      <th>targsubtype1</th>\n",
              "      <th>targsubtype1_txt</th>\n",
              "      <th>corp1</th>\n",
              "      <th>target1</th>\n",
              "      <th>...</th>\n",
              "      <th>weapsubtype4</th>\n",
              "      <th>weapsubtype4_txt</th>\n",
              "      <th>weapdetail</th>\n",
              "      <th>nkill</th>\n",
              "      <th>nkillus</th>\n",
              "      <th>nkillter</th>\n",
              "      <th>nwound</th>\n",
              "      <th>nwoundus</th>\n",
              "      <th>nwoundte</th>\n",
              "      <th>property</th>\n",
              "      <th>propextent</th>\n",
              "      <th>propextent_txt</th>\n",
              "      <th>propvalue</th>\n",
              "      <th>propcomment</th>\n",
              "      <th>ishostkid</th>\n",
              "      <th>nhostkid</th>\n",
              "      <th>nhostkidus</th>\n",
              "      <th>nhours</th>\n",
              "      <th>ndays</th>\n",
              "      <th>divert</th>\n",
              "      <th>kidhijcountry</th>\n",
              "      <th>ransom</th>\n",
              "      <th>ransomamt</th>\n",
              "      <th>ransomamtus</th>\n",
              "      <th>ransompaid</th>\n",
              "      <th>ransompaidus</th>\n",
              "      <th>ransomnote</th>\n",
              "      <th>hostkidoutcome</th>\n",
              "      <th>hostkidoutcome_txt</th>\n",
              "      <th>nreleased</th>\n",
              "      <th>addnotes</th>\n",
              "      <th>scite1</th>\n",
              "      <th>scite2</th>\n",
              "      <th>scite3</th>\n",
              "      <th>dbsource</th>\n",
              "      <th>INT_LOG</th>\n",
              "      <th>INT_IDEO</th>\n",
              "      <th>INT_MISC</th>\n",
              "      <th>INT_ANY</th>\n",
              "      <th>related</th>\n",
              "    </tr>\n",
              "  </thead>\n",
              "  <tbody>\n",
              "    <tr>\n",
              "      <th>0</th>\n",
              "      <td>197000000001</td>\n",
              "      <td>1970</td>\n",
              "      <td>7</td>\n",
              "      <td>2</td>\n",
              "      <td>NaN</td>\n",
              "      <td>0</td>\n",
              "      <td>NaN</td>\n",
              "      <td>58</td>\n",
              "      <td>Dominican Republic</td>\n",
              "      <td>2</td>\n",
              "      <td>Central America &amp; Caribbean</td>\n",
              "      <td>NaN</td>\n",
              "      <td>Santo Domingo</td>\n",
              "      <td>18.456792</td>\n",
              "      <td>-69.951164</td>\n",
              "      <td>1.0</td>\n",
              "      <td>0</td>\n",
              "      <td>NaN</td>\n",
              "      <td>NaN</td>\n",
              "      <td>1</td>\n",
              "      <td>1</td>\n",
              "      <td>1</td>\n",
              "      <td>0.0</td>\n",
              "      <td>NaN</td>\n",
              "      <td>NaN</td>\n",
              "      <td>0.0</td>\n",
              "      <td>1</td>\n",
              "      <td>0</td>\n",
              "      <td>1</td>\n",
              "      <td>Assassination</td>\n",
              "      <td>NaN</td>\n",
              "      <td>NaN</td>\n",
              "      <td>NaN</td>\n",
              "      <td>NaN</td>\n",
              "      <td>14</td>\n",
              "      <td>Private Citizens &amp; Property</td>\n",
              "      <td>68.0</td>\n",
              "      <td>Named Civilian</td>\n",
              "      <td>NaN</td>\n",
              "      <td>Julio Guzman</td>\n",
              "      <td>...</td>\n",
              "      <td>NaN</td>\n",
              "      <td>NaN</td>\n",
              "      <td>NaN</td>\n",
              "      <td>1.0</td>\n",
              "      <td>NaN</td>\n",
              "      <td>NaN</td>\n",
              "      <td>0.0</td>\n",
              "      <td>NaN</td>\n",
              "      <td>NaN</td>\n",
              "      <td>0</td>\n",
              "      <td>NaN</td>\n",
              "      <td>NaN</td>\n",
              "      <td>NaN</td>\n",
              "      <td>NaN</td>\n",
              "      <td>0.0</td>\n",
              "      <td>NaN</td>\n",
              "      <td>NaN</td>\n",
              "      <td>NaN</td>\n",
              "      <td>NaN</td>\n",
              "      <td>NaN</td>\n",
              "      <td>NaN</td>\n",
              "      <td>0.0</td>\n",
              "      <td>NaN</td>\n",
              "      <td>NaN</td>\n",
              "      <td>NaN</td>\n",
              "      <td>NaN</td>\n",
              "      <td>NaN</td>\n",
              "      <td>NaN</td>\n",
              "      <td>NaN</td>\n",
              "      <td>NaN</td>\n",
              "      <td>NaN</td>\n",
              "      <td>NaN</td>\n",
              "      <td>NaN</td>\n",
              "      <td>NaN</td>\n",
              "      <td>PGIS</td>\n",
              "      <td>0</td>\n",
              "      <td>0</td>\n",
              "      <td>0</td>\n",
              "      <td>0</td>\n",
              "      <td>NaN</td>\n",
              "    </tr>\n",
              "    <tr>\n",
              "      <th>1</th>\n",
              "      <td>197000000002</td>\n",
              "      <td>1970</td>\n",
              "      <td>0</td>\n",
              "      <td>0</td>\n",
              "      <td>NaN</td>\n",
              "      <td>0</td>\n",
              "      <td>NaN</td>\n",
              "      <td>130</td>\n",
              "      <td>Mexico</td>\n",
              "      <td>1</td>\n",
              "      <td>North America</td>\n",
              "      <td>Federal</td>\n",
              "      <td>Mexico city</td>\n",
              "      <td>19.371887</td>\n",
              "      <td>-99.086624</td>\n",
              "      <td>1.0</td>\n",
              "      <td>0</td>\n",
              "      <td>NaN</td>\n",
              "      <td>NaN</td>\n",
              "      <td>1</td>\n",
              "      <td>1</td>\n",
              "      <td>1</td>\n",
              "      <td>0.0</td>\n",
              "      <td>NaN</td>\n",
              "      <td>NaN</td>\n",
              "      <td>0.0</td>\n",
              "      <td>1</td>\n",
              "      <td>0</td>\n",
              "      <td>6</td>\n",
              "      <td>Hostage Taking (Kidnapping)</td>\n",
              "      <td>NaN</td>\n",
              "      <td>NaN</td>\n",
              "      <td>NaN</td>\n",
              "      <td>NaN</td>\n",
              "      <td>7</td>\n",
              "      <td>Government (Diplomatic)</td>\n",
              "      <td>45.0</td>\n",
              "      <td>Diplomatic Personnel (outside of embassy, cons...</td>\n",
              "      <td>Belgian Ambassador Daughter</td>\n",
              "      <td>Nadine Chaval, daughter</td>\n",
              "      <td>...</td>\n",
              "      <td>NaN</td>\n",
              "      <td>NaN</td>\n",
              "      <td>NaN</td>\n",
              "      <td>0.0</td>\n",
              "      <td>NaN</td>\n",
              "      <td>NaN</td>\n",
              "      <td>0.0</td>\n",
              "      <td>NaN</td>\n",
              "      <td>NaN</td>\n",
              "      <td>0</td>\n",
              "      <td>NaN</td>\n",
              "      <td>NaN</td>\n",
              "      <td>NaN</td>\n",
              "      <td>NaN</td>\n",
              "      <td>1.0</td>\n",
              "      <td>1.0</td>\n",
              "      <td>0.0</td>\n",
              "      <td>NaN</td>\n",
              "      <td>NaN</td>\n",
              "      <td>NaN</td>\n",
              "      <td>Mexico</td>\n",
              "      <td>1.0</td>\n",
              "      <td>800000.0</td>\n",
              "      <td>NaN</td>\n",
              "      <td>NaN</td>\n",
              "      <td>NaN</td>\n",
              "      <td>NaN</td>\n",
              "      <td>NaN</td>\n",
              "      <td>NaN</td>\n",
              "      <td>NaN</td>\n",
              "      <td>NaN</td>\n",
              "      <td>NaN</td>\n",
              "      <td>NaN</td>\n",
              "      <td>NaN</td>\n",
              "      <td>PGIS</td>\n",
              "      <td>0</td>\n",
              "      <td>1</td>\n",
              "      <td>1</td>\n",
              "      <td>1</td>\n",
              "      <td>NaN</td>\n",
              "    </tr>\n",
              "    <tr>\n",
              "      <th>2</th>\n",
              "      <td>197001000001</td>\n",
              "      <td>1970</td>\n",
              "      <td>1</td>\n",
              "      <td>0</td>\n",
              "      <td>NaN</td>\n",
              "      <td>0</td>\n",
              "      <td>NaN</td>\n",
              "      <td>160</td>\n",
              "      <td>Philippines</td>\n",
              "      <td>5</td>\n",
              "      <td>Southeast Asia</td>\n",
              "      <td>Tarlac</td>\n",
              "      <td>Unknown</td>\n",
              "      <td>15.478598</td>\n",
              "      <td>120.599741</td>\n",
              "      <td>4.0</td>\n",
              "      <td>0</td>\n",
              "      <td>NaN</td>\n",
              "      <td>NaN</td>\n",
              "      <td>1</td>\n",
              "      <td>1</td>\n",
              "      <td>1</td>\n",
              "      <td>0.0</td>\n",
              "      <td>NaN</td>\n",
              "      <td>NaN</td>\n",
              "      <td>0.0</td>\n",
              "      <td>1</td>\n",
              "      <td>0</td>\n",
              "      <td>1</td>\n",
              "      <td>Assassination</td>\n",
              "      <td>NaN</td>\n",
              "      <td>NaN</td>\n",
              "      <td>NaN</td>\n",
              "      <td>NaN</td>\n",
              "      <td>10</td>\n",
              "      <td>Journalists &amp; Media</td>\n",
              "      <td>54.0</td>\n",
              "      <td>Radio Journalist/Staff/Facility</td>\n",
              "      <td>Voice of America</td>\n",
              "      <td>Employee</td>\n",
              "      <td>...</td>\n",
              "      <td>NaN</td>\n",
              "      <td>NaN</td>\n",
              "      <td>NaN</td>\n",
              "      <td>1.0</td>\n",
              "      <td>NaN</td>\n",
              "      <td>NaN</td>\n",
              "      <td>0.0</td>\n",
              "      <td>NaN</td>\n",
              "      <td>NaN</td>\n",
              "      <td>0</td>\n",
              "      <td>NaN</td>\n",
              "      <td>NaN</td>\n",
              "      <td>NaN</td>\n",
              "      <td>NaN</td>\n",
              "      <td>0.0</td>\n",
              "      <td>NaN</td>\n",
              "      <td>NaN</td>\n",
              "      <td>NaN</td>\n",
              "      <td>NaN</td>\n",
              "      <td>NaN</td>\n",
              "      <td>NaN</td>\n",
              "      <td>0.0</td>\n",
              "      <td>NaN</td>\n",
              "      <td>NaN</td>\n",
              "      <td>NaN</td>\n",
              "      <td>NaN</td>\n",
              "      <td>NaN</td>\n",
              "      <td>NaN</td>\n",
              "      <td>NaN</td>\n",
              "      <td>NaN</td>\n",
              "      <td>NaN</td>\n",
              "      <td>NaN</td>\n",
              "      <td>NaN</td>\n",
              "      <td>NaN</td>\n",
              "      <td>PGIS</td>\n",
              "      <td>-9</td>\n",
              "      <td>-9</td>\n",
              "      <td>1</td>\n",
              "      <td>1</td>\n",
              "      <td>NaN</td>\n",
              "    </tr>\n",
              "    <tr>\n",
              "      <th>3</th>\n",
              "      <td>197001000002</td>\n",
              "      <td>1970</td>\n",
              "      <td>1</td>\n",
              "      <td>0</td>\n",
              "      <td>NaN</td>\n",
              "      <td>0</td>\n",
              "      <td>NaN</td>\n",
              "      <td>78</td>\n",
              "      <td>Greece</td>\n",
              "      <td>8</td>\n",
              "      <td>Western Europe</td>\n",
              "      <td>Attica</td>\n",
              "      <td>Athens</td>\n",
              "      <td>37.997490</td>\n",
              "      <td>23.762728</td>\n",
              "      <td>1.0</td>\n",
              "      <td>0</td>\n",
              "      <td>NaN</td>\n",
              "      <td>NaN</td>\n",
              "      <td>1</td>\n",
              "      <td>1</td>\n",
              "      <td>1</td>\n",
              "      <td>0.0</td>\n",
              "      <td>NaN</td>\n",
              "      <td>NaN</td>\n",
              "      <td>0.0</td>\n",
              "      <td>1</td>\n",
              "      <td>0</td>\n",
              "      <td>3</td>\n",
              "      <td>Bombing/Explosion</td>\n",
              "      <td>NaN</td>\n",
              "      <td>NaN</td>\n",
              "      <td>NaN</td>\n",
              "      <td>NaN</td>\n",
              "      <td>7</td>\n",
              "      <td>Government (Diplomatic)</td>\n",
              "      <td>46.0</td>\n",
              "      <td>Embassy/Consulate</td>\n",
              "      <td>NaN</td>\n",
              "      <td>U.S. Embassy</td>\n",
              "      <td>...</td>\n",
              "      <td>NaN</td>\n",
              "      <td>NaN</td>\n",
              "      <td>Explosive</td>\n",
              "      <td>NaN</td>\n",
              "      <td>NaN</td>\n",
              "      <td>NaN</td>\n",
              "      <td>NaN</td>\n",
              "      <td>NaN</td>\n",
              "      <td>NaN</td>\n",
              "      <td>1</td>\n",
              "      <td>NaN</td>\n",
              "      <td>NaN</td>\n",
              "      <td>NaN</td>\n",
              "      <td>NaN</td>\n",
              "      <td>0.0</td>\n",
              "      <td>NaN</td>\n",
              "      <td>NaN</td>\n",
              "      <td>NaN</td>\n",
              "      <td>NaN</td>\n",
              "      <td>NaN</td>\n",
              "      <td>NaN</td>\n",
              "      <td>0.0</td>\n",
              "      <td>NaN</td>\n",
              "      <td>NaN</td>\n",
              "      <td>NaN</td>\n",
              "      <td>NaN</td>\n",
              "      <td>NaN</td>\n",
              "      <td>NaN</td>\n",
              "      <td>NaN</td>\n",
              "      <td>NaN</td>\n",
              "      <td>NaN</td>\n",
              "      <td>NaN</td>\n",
              "      <td>NaN</td>\n",
              "      <td>NaN</td>\n",
              "      <td>PGIS</td>\n",
              "      <td>-9</td>\n",
              "      <td>-9</td>\n",
              "      <td>1</td>\n",
              "      <td>1</td>\n",
              "      <td>NaN</td>\n",
              "    </tr>\n",
              "    <tr>\n",
              "      <th>4</th>\n",
              "      <td>197001000003</td>\n",
              "      <td>1970</td>\n",
              "      <td>1</td>\n",
              "      <td>0</td>\n",
              "      <td>NaN</td>\n",
              "      <td>0</td>\n",
              "      <td>NaN</td>\n",
              "      <td>101</td>\n",
              "      <td>Japan</td>\n",
              "      <td>4</td>\n",
              "      <td>East Asia</td>\n",
              "      <td>Fukouka</td>\n",
              "      <td>Fukouka</td>\n",
              "      <td>33.580412</td>\n",
              "      <td>130.396361</td>\n",
              "      <td>1.0</td>\n",
              "      <td>0</td>\n",
              "      <td>NaN</td>\n",
              "      <td>NaN</td>\n",
              "      <td>1</td>\n",
              "      <td>1</td>\n",
              "      <td>1</td>\n",
              "      <td>-9.0</td>\n",
              "      <td>NaN</td>\n",
              "      <td>NaN</td>\n",
              "      <td>0.0</td>\n",
              "      <td>1</td>\n",
              "      <td>0</td>\n",
              "      <td>7</td>\n",
              "      <td>Facility/Infrastructure Attack</td>\n",
              "      <td>NaN</td>\n",
              "      <td>NaN</td>\n",
              "      <td>NaN</td>\n",
              "      <td>NaN</td>\n",
              "      <td>7</td>\n",
              "      <td>Government (Diplomatic)</td>\n",
              "      <td>46.0</td>\n",
              "      <td>Embassy/Consulate</td>\n",
              "      <td>NaN</td>\n",
              "      <td>U.S. Consulate</td>\n",
              "      <td>...</td>\n",
              "      <td>NaN</td>\n",
              "      <td>NaN</td>\n",
              "      <td>Incendiary</td>\n",
              "      <td>NaN</td>\n",
              "      <td>NaN</td>\n",
              "      <td>NaN</td>\n",
              "      <td>NaN</td>\n",
              "      <td>NaN</td>\n",
              "      <td>NaN</td>\n",
              "      <td>1</td>\n",
              "      <td>NaN</td>\n",
              "      <td>NaN</td>\n",
              "      <td>NaN</td>\n",
              "      <td>NaN</td>\n",
              "      <td>0.0</td>\n",
              "      <td>NaN</td>\n",
              "      <td>NaN</td>\n",
              "      <td>NaN</td>\n",
              "      <td>NaN</td>\n",
              "      <td>NaN</td>\n",
              "      <td>NaN</td>\n",
              "      <td>0.0</td>\n",
              "      <td>NaN</td>\n",
              "      <td>NaN</td>\n",
              "      <td>NaN</td>\n",
              "      <td>NaN</td>\n",
              "      <td>NaN</td>\n",
              "      <td>NaN</td>\n",
              "      <td>NaN</td>\n",
              "      <td>NaN</td>\n",
              "      <td>NaN</td>\n",
              "      <td>NaN</td>\n",
              "      <td>NaN</td>\n",
              "      <td>NaN</td>\n",
              "      <td>PGIS</td>\n",
              "      <td>-9</td>\n",
              "      <td>-9</td>\n",
              "      <td>1</td>\n",
              "      <td>1</td>\n",
              "      <td>NaN</td>\n",
              "    </tr>\n",
              "  </tbody>\n",
              "</table>\n",
              "<p>5 rows × 135 columns</p>\n",
              "</div>"
            ],
            "text/plain": [
              "        eventid  iyear  imonth  iday  ... INT_IDEO  INT_MISC INT_ANY  related\n",
              "0  197000000001   1970       7     2  ...        0         0       0      NaN\n",
              "1  197000000002   1970       0     0  ...        1         1       1      NaN\n",
              "2  197001000001   1970       1     0  ...       -9         1       1      NaN\n",
              "3  197001000002   1970       1     0  ...       -9         1       1      NaN\n",
              "4  197001000003   1970       1     0  ...       -9         1       1      NaN\n",
              "\n",
              "[5 rows x 135 columns]"
            ]
          },
          "metadata": {
            "tags": []
          },
          "execution_count": 6
        }
      ]
    },
    {
      "cell_type": "markdown",
      "metadata": {
        "id": "YHTzcx7fxmwP"
      },
      "source": [
        "# Selection of Columns to be used in the analysis\r\n",
        "\r\n",
        "Columns with too many Missing Values will be very difficult to analyze. In this case, we will drop the column with Missing Value more than 50%."
      ]
    },
    {
      "cell_type": "code",
      "metadata": {
        "id": "8CHT6oxXxFsM"
      },
      "source": [
        "#Specifies the percent of data that is blank for each column\r\n",
        "len_df = len(df)\r\n",
        "percent_null = []\r\n",
        "for item in df.columns:\r\n",
        "    count_null = df[item].isnull().sum()\r\n",
        "    percent_null.append(count_null/len_df*100)"
      ],
      "execution_count": null,
      "outputs": []
    },
    {
      "cell_type": "code",
      "metadata": {
        "colab": {
          "base_uri": "https://localhost:8080/",
          "height": 419
        },
        "id": "i8Qy9vlrxv8A",
        "outputId": "5cd847df-eb75-4984-a7f8-a001e3036068"
      },
      "source": [
        "percent_column_null = pd.DataFrame({'column_name':df.columns, 'percent_null(%)':percent_null})\r\n",
        "percent_column_null"
      ],
      "execution_count": null,
      "outputs": [
        {
          "output_type": "execute_result",
          "data": {
            "text/html": [
              "<div>\n",
              "<style scoped>\n",
              "    .dataframe tbody tr th:only-of-type {\n",
              "        vertical-align: middle;\n",
              "    }\n",
              "\n",
              "    .dataframe tbody tr th {\n",
              "        vertical-align: top;\n",
              "    }\n",
              "\n",
              "    .dataframe thead th {\n",
              "        text-align: right;\n",
              "    }\n",
              "</style>\n",
              "<table border=\"1\" class=\"dataframe\">\n",
              "  <thead>\n",
              "    <tr style=\"text-align: right;\">\n",
              "      <th></th>\n",
              "      <th>column_name</th>\n",
              "      <th>percent_null(%)</th>\n",
              "    </tr>\n",
              "  </thead>\n",
              "  <tbody>\n",
              "    <tr>\n",
              "      <th>0</th>\n",
              "      <td>eventid</td>\n",
              "      <td>0.000000</td>\n",
              "    </tr>\n",
              "    <tr>\n",
              "      <th>1</th>\n",
              "      <td>iyear</td>\n",
              "      <td>0.000000</td>\n",
              "    </tr>\n",
              "    <tr>\n",
              "      <th>2</th>\n",
              "      <td>imonth</td>\n",
              "      <td>0.000000</td>\n",
              "    </tr>\n",
              "    <tr>\n",
              "      <th>3</th>\n",
              "      <td>iday</td>\n",
              "      <td>0.000000</td>\n",
              "    </tr>\n",
              "    <tr>\n",
              "      <th>4</th>\n",
              "      <td>approxdate</td>\n",
              "      <td>94.914993</td>\n",
              "    </tr>\n",
              "    <tr>\n",
              "      <th>...</th>\n",
              "      <td>...</td>\n",
              "      <td>...</td>\n",
              "    </tr>\n",
              "    <tr>\n",
              "      <th>130</th>\n",
              "      <td>INT_LOG</td>\n",
              "      <td>0.000000</td>\n",
              "    </tr>\n",
              "    <tr>\n",
              "      <th>131</th>\n",
              "      <td>INT_IDEO</td>\n",
              "      <td>0.000000</td>\n",
              "    </tr>\n",
              "    <tr>\n",
              "      <th>132</th>\n",
              "      <td>INT_MISC</td>\n",
              "      <td>0.000000</td>\n",
              "    </tr>\n",
              "    <tr>\n",
              "      <th>133</th>\n",
              "      <td>INT_ANY</td>\n",
              "      <td>0.000000</td>\n",
              "    </tr>\n",
              "    <tr>\n",
              "      <th>134</th>\n",
              "      <td>related</td>\n",
              "      <td>86.219461</td>\n",
              "    </tr>\n",
              "  </tbody>\n",
              "</table>\n",
              "<p>135 rows × 2 columns</p>\n",
              "</div>"
            ],
            "text/plain": [
              "    column_name  percent_null(%)\n",
              "0       eventid         0.000000\n",
              "1         iyear         0.000000\n",
              "2        imonth         0.000000\n",
              "3          iday         0.000000\n",
              "4    approxdate        94.914993\n",
              "..          ...              ...\n",
              "130     INT_LOG         0.000000\n",
              "131    INT_IDEO         0.000000\n",
              "132    INT_MISC         0.000000\n",
              "133     INT_ANY         0.000000\n",
              "134     related        86.219461\n",
              "\n",
              "[135 rows x 2 columns]"
            ]
          },
          "metadata": {
            "tags": []
          },
          "execution_count": 8
        }
      ]
    },
    {
      "cell_type": "markdown",
      "metadata": {
        "id": "UIcZKIyvx2-n"
      },
      "source": [
        "Many columns turned out to have a Missing Value of more than 50%, some even more than 90%. We will not use these columns."
      ]
    },
    {
      "cell_type": "code",
      "metadata": {
        "id": "8bqotT2kxy5J"
      },
      "source": [
        "#Drop Missing Value column> 50%\r\n",
        "column_to_drop = []\r\n",
        "for i in range(len(percent_column_null)):\r\n",
        "    if percent_column_null['percent_null(%)'][i] > 50:\r\n",
        "        column_to_drop.append(percent_column_null['column_name'][i])"
      ],
      "execution_count": null,
      "outputs": []
    },
    {
      "cell_type": "code",
      "metadata": {
        "id": "3hRsr8Wfx5wZ"
      },
      "source": [
        "df2 = df.drop(column_to_drop, axis=1)"
      ],
      "execution_count": null,
      "outputs": []
    },
    {
      "cell_type": "code",
      "metadata": {
        "colab": {
          "base_uri": "https://localhost:8080/"
        },
        "id": "RpjFDnCKx7h6",
        "outputId": "d6b595dd-b328-4473-e45b-6eb1db9646d4"
      },
      "source": [
        "len(df2.columns)"
      ],
      "execution_count": null,
      "outputs": [
        {
          "output_type": "execute_result",
          "data": {
            "text/plain": [
              "58"
            ]
          },
          "metadata": {
            "tags": []
          },
          "execution_count": 11
        }
      ]
    },
    {
      "cell_type": "code",
      "metadata": {
        "colab": {
          "base_uri": "https://localhost:8080/"
        },
        "id": "4fEu4s72yKrt",
        "outputId": "9696cc5b-fbdb-44be-cf10-2fcab5ded07c"
      },
      "source": [
        "df2.info()"
      ],
      "execution_count": null,
      "outputs": [
        {
          "output_type": "stream",
          "text": [
            "<class 'pandas.core.frame.DataFrame'>\n",
            "RangeIndex: 181691 entries, 0 to 181690\n",
            "Data columns (total 58 columns):\n",
            " #   Column            Non-Null Count   Dtype  \n",
            "---  ------            --------------   -----  \n",
            " 0   eventid           181691 non-null  int64  \n",
            " 1   iyear             181691 non-null  int64  \n",
            " 2   imonth            181691 non-null  int64  \n",
            " 3   iday              181691 non-null  int64  \n",
            " 4   extended          181691 non-null  int64  \n",
            " 5   country           181691 non-null  int64  \n",
            " 6   country_txt       181691 non-null  object \n",
            " 7   region            181691 non-null  int64  \n",
            " 8   region_txt        181691 non-null  object \n",
            " 9   provstate         181270 non-null  object \n",
            " 10  city              181257 non-null  object \n",
            " 11  latitude          177135 non-null  float64\n",
            " 12  longitude         177134 non-null  float64\n",
            " 13  specificity       181685 non-null  float64\n",
            " 14  vicinity          181691 non-null  int64  \n",
            " 15  summary           115562 non-null  object \n",
            " 16  crit1             181691 non-null  int64  \n",
            " 17  crit2             181691 non-null  int64  \n",
            " 18  crit3             181691 non-null  int64  \n",
            " 19  doubtterr         181690 non-null  float64\n",
            " 20  multiple          181690 non-null  float64\n",
            " 21  success           181691 non-null  int64  \n",
            " 22  suicide           181691 non-null  int64  \n",
            " 23  attacktype1       181691 non-null  int64  \n",
            " 24  attacktype1_txt   181691 non-null  object \n",
            " 25  targtype1         181691 non-null  int64  \n",
            " 26  targtype1_txt     181691 non-null  object \n",
            " 27  targsubtype1      171318 non-null  float64\n",
            " 28  targsubtype1_txt  171318 non-null  object \n",
            " 29  corp1             139141 non-null  object \n",
            " 30  target1           181055 non-null  object \n",
            " 31  natlty1           180132 non-null  float64\n",
            " 32  natlty1_txt       180132 non-null  object \n",
            " 33  gname             181691 non-null  object \n",
            " 34  guncertain1       181311 non-null  float64\n",
            " 35  individual        181691 non-null  int64  \n",
            " 36  nperps            110576 non-null  float64\n",
            " 37  nperpcap          112202 non-null  float64\n",
            " 38  claimed           115571 non-null  float64\n",
            " 39  weaptype1         181691 non-null  int64  \n",
            " 40  weaptype1_txt     181691 non-null  object \n",
            " 41  weapsubtype1      160923 non-null  float64\n",
            " 42  weapsubtype1_txt  160923 non-null  object \n",
            " 43  weapdetail        114021 non-null  object \n",
            " 44  nkill             171378 non-null  float64\n",
            " 45  nkillus           117245 non-null  float64\n",
            " 46  nkillter          114733 non-null  float64\n",
            " 47  nwound            165380 non-null  float64\n",
            " 48  nwoundus          116989 non-null  float64\n",
            " 49  nwoundte          112548 non-null  float64\n",
            " 50  property          181691 non-null  int64  \n",
            " 51  ishostkid         181513 non-null  float64\n",
            " 52  scite1            115500 non-null  object \n",
            " 53  dbsource          181691 non-null  object \n",
            " 54  INT_LOG           181691 non-null  int64  \n",
            " 55  INT_IDEO          181691 non-null  int64  \n",
            " 56  INT_MISC          181691 non-null  int64  \n",
            " 57  INT_ANY           181691 non-null  int64  \n",
            "dtypes: float64(19), int64(22), object(17)\n",
            "memory usage: 80.4+ MB\n"
          ],
          "name": "stdout"
        }
      ]
    },
    {
      "cell_type": "code",
      "metadata": {
        "id": "LGB6x3mGyR8-"
      },
      "source": [
        "# Make a list of column names used for analysis\r\n",
        "column_to_use = [ 'latitude', 'longitude', 'nperpcap', 'nkill', 'nkillter',\r\n",
        "       'nwound', 'nwoundte', 'eventid', 'iyear', 'imonth', 'iday', 'extended',\r\n",
        "       'crit1', 'crit2', 'crit3', 'multiple', 'country', 'country_txt',\r\n",
        "       'region', 'region_txt', 'city', 'specificity', 'attacktype1',\r\n",
        "       'attacktype1_txt', 'success', 'suicide', 'weaptype1', 'weaptype1_txt',\r\n",
        "       'targtype1', 'targtype1_txt', 'natlty1', 'natlty1_txt', 'individual',\r\n",
        "       'gname', 'claimed', 'property', 'doubtterr','provstate']"
      ],
      "execution_count": null,
      "outputs": []
    },
    {
      "cell_type": "code",
      "metadata": {
        "id": "OMbjhfGFz9ox"
      },
      "source": [
        "df2 = df[column_to_use]"
      ],
      "execution_count": null,
      "outputs": []
    },
    {
      "cell_type": "code",
      "metadata": {
        "colab": {
          "base_uri": "https://localhost:8080/"
        },
        "id": "QnOMqE9Rz-hO",
        "outputId": "f0d510ef-39a5-4dd6-de1d-9823845fd916"
      },
      "source": [
        "df2.info()"
      ],
      "execution_count": null,
      "outputs": [
        {
          "output_type": "stream",
          "text": [
            "<class 'pandas.core.frame.DataFrame'>\n",
            "RangeIndex: 181691 entries, 0 to 181690\n",
            "Data columns (total 38 columns):\n",
            " #   Column           Non-Null Count   Dtype  \n",
            "---  ------           --------------   -----  \n",
            " 0   latitude         177135 non-null  float64\n",
            " 1   longitude        177134 non-null  float64\n",
            " 2   nperpcap         112202 non-null  float64\n",
            " 3   nkill            171378 non-null  float64\n",
            " 4   nkillter         114733 non-null  float64\n",
            " 5   nwound           165380 non-null  float64\n",
            " 6   nwoundte         112548 non-null  float64\n",
            " 7   eventid          181691 non-null  int64  \n",
            " 8   iyear            181691 non-null  int64  \n",
            " 9   imonth           181691 non-null  int64  \n",
            " 10  iday             181691 non-null  int64  \n",
            " 11  extended         181691 non-null  int64  \n",
            " 12  crit1            181691 non-null  int64  \n",
            " 13  crit2            181691 non-null  int64  \n",
            " 14  crit3            181691 non-null  int64  \n",
            " 15  multiple         181690 non-null  float64\n",
            " 16  country          181691 non-null  int64  \n",
            " 17  country_txt      181691 non-null  object \n",
            " 18  region           181691 non-null  int64  \n",
            " 19  region_txt       181691 non-null  object \n",
            " 20  city             181257 non-null  object \n",
            " 21  specificity      181685 non-null  float64\n",
            " 22  attacktype1      181691 non-null  int64  \n",
            " 23  attacktype1_txt  181691 non-null  object \n",
            " 24  success          181691 non-null  int64  \n",
            " 25  suicide          181691 non-null  int64  \n",
            " 26  weaptype1        181691 non-null  int64  \n",
            " 27  weaptype1_txt    181691 non-null  object \n",
            " 28  targtype1        181691 non-null  int64  \n",
            " 29  targtype1_txt    181691 non-null  object \n",
            " 30  natlty1          180132 non-null  float64\n",
            " 31  natlty1_txt      180132 non-null  object \n",
            " 32  individual       181691 non-null  int64  \n",
            " 33  gname            181691 non-null  object \n",
            " 34  claimed          115571 non-null  float64\n",
            " 35  property         181691 non-null  int64  \n",
            " 36  doubtterr        181690 non-null  float64\n",
            " 37  provstate        181270 non-null  object \n",
            "dtypes: float64(12), int64(17), object(9)\n",
            "memory usage: 52.7+ MB\n"
          ],
          "name": "stdout"
        }
      ]
    },
    {
      "cell_type": "code",
      "metadata": {
        "colab": {
          "base_uri": "https://localhost:8080/"
        },
        "id": "TZxM9CJn0J7z",
        "outputId": "651e99ed-c8da-45d6-bf5d-4daeb784bf74"
      },
      "source": [
        "df2.nunique()"
      ],
      "execution_count": null,
      "outputs": [
        {
          "output_type": "execute_result",
          "data": {
            "text/plain": [
              "latitude            48322\n",
              "longitude           48039\n",
              "nperpcap               50\n",
              "nkill                 205\n",
              "nkillter               96\n",
              "nwound                238\n",
              "nwoundte               44\n",
              "eventid            181691\n",
              "iyear                  47\n",
              "imonth                 13\n",
              "iday                   32\n",
              "extended                2\n",
              "crit1                   2\n",
              "crit2                   2\n",
              "crit3                   2\n",
              "multiple                2\n",
              "country               205\n",
              "country_txt           205\n",
              "region                 12\n",
              "region_txt             12\n",
              "city                36674\n",
              "specificity             5\n",
              "attacktype1             9\n",
              "attacktype1_txt         9\n",
              "success                 2\n",
              "suicide                 2\n",
              "weaptype1              12\n",
              "weaptype1_txt          12\n",
              "targtype1              22\n",
              "targtype1_txt          22\n",
              "natlty1               215\n",
              "natlty1_txt           215\n",
              "individual              2\n",
              "gname                3537\n",
              "claimed                 3\n",
              "property                3\n",
              "doubtterr               3\n",
              "provstate            2855\n",
              "dtype: int64"
            ]
          },
          "metadata": {
            "tags": []
          },
          "execution_count": 16
        }
      ]
    },
    {
      "cell_type": "markdown",
      "metadata": {
        "id": "ZieeKoF35dBh"
      },
      "source": [
        "### **Explanation of Column Names Used**\r\n",
        "There are 38 columns used in this analysis. The 38 columns are as follows.\r\n",
        "\r\n",
        "•\teventid- this is the Unique ID of the event. (Numeric Variable)\r\n",
        "\r\n",
        "•\tiyear-year of the incident (Numeric Variable)\r\n",
        "\r\n",
        "•\timonth-month of the incident (Numeric Variable)\r\n",
        "\r\n",
        "•\tiday – Day of the incident (Numeric Variable)\r\n",
        "\r\n",
        "•\textended- Extended Incident (Categorical Variable)\r\n",
        "\r\n",
        "•\tsummary -Incident Summary (Text Variable)\r\n",
        "\r\n",
        "•\tcrit1, crit2, crit3-Inclusion Criteria (Categorical Variables)\r\n",
        "\r\n",
        "•\tmultiple - part of multiple incident (Categorical Variable)\r\n",
        "\r\n",
        "•\trelated - related incidents (Text Variable)\r\n",
        "\r\n",
        "•\tcountry, country_txt- country (Categorical Variable)\r\n",
        "\r\n",
        "•\tregion, region_txt- region (Categorical Variable)\r\n",
        "\r\n",
        "•\tcity - city (Text Variable)\r\n",
        "\r\n",
        "•\tlatitude – latitude (Numeric Variable)\r\n",
        "\r\n",
        "•\tlongitude - longitude (Numeric Variable)\r\n",
        "\r\n",
        "•\tspecificity -Geo-Coding Specificity (Categorical Variable)\r\n",
        "\r\n",
        "•\tattacktype1, attacktype1_txt – Attack Type (Categorical Variable)\r\n",
        "\r\n",
        "•\tsuccess -Successful Attack (Categorical Variable)\r\n",
        "\r\n",
        "•\tsuicide -Suicide Attack (Categorical Variable)\r\n",
        "\r\n",
        "•\tweaptype1, weaptype1_txt -Weapon Type (Categorical Variable)\r\n",
        "\r\n",
        "•\ttargtype1, targtype1_txt -Victim Type (Categorical Variable)\r\n",
        "\r\n",
        "•\tcorp1: Name of the Entity (Text Variable)\r\n",
        "\r\n",
        "•\tnatlty1; natlty1_txt -Nationality of the Victim (Categorical Variable)\r\n",
        "\r\n",
        "•\tindividual -Unaffiliated Individuals (Categorical Variable)\r\n",
        "\r\n",
        "•\tgname -Perpetrator Group Name (Text Variable)\r\n",
        "\r\n",
        "•\tnperps- Number of the Perpetrators (Numeric Variable)\r\n",
        "\r\n",
        "•\tclaimed -Claim of Responsibility (Categorical Variable)\r\n",
        "\r\n",
        "•\tmotive - Motive (Text Variable)\r\n",
        "\r\n",
        "•\tNkill - Total Fatalities - (Numeric Variable)\r\n",
        "\r\n",
        "•\tnkillter - perpetrator Fatalities (Numeric Variable)\r\n",
        "\r\n",
        "•\tnwound -Total Injured (Numeric Variable)\r\n",
        "\r\n",
        "•\tnwoundte - Perpetrators Injured (Numeric Variable)\r\n",
        "\r\n",
        "•\tproperty - property damage (Categorical Variable)\r\n",
        "\r\n",
        "•\tpropvalue- Value of the Property Damage (in usd) (Numeric Variable)\r\n",
        "\r\n",
        "•\tnhostkid- Total No. Of Hostages / Victim Kidnaps (- Numeric Variable)\r\n",
        "\r\n",
        "•\transomamt -Total Ransom Amount Demanded (Numeric Variable)\r\n",
        "\r\n",
        "•\transompaid -Total Ransom Amount Paid (Numeric Variable)\r\n",
        "\r\n",
        "•\tINT_IDEO – Attack of an International Ideology (Categorical Variable)\r\n",
        "\r\n",
        "•\tdoubtterr - Doubt Terrorism Proper (Categorical Variable)\r\n"
      ]
    },
    {
      "cell_type": "markdown",
      "metadata": {
        "id": "v5nk44B60UkE"
      },
      "source": [
        "# **Empty Data Handling**"
      ]
    },
    {
      "cell_type": "code",
      "metadata": {
        "id": "SVifvVtj0O_7"
      },
      "source": [
        "df2.isnull().sum()"
      ],
      "execution_count": null,
      "outputs": []
    },
    {
      "cell_type": "markdown",
      "metadata": {
        "id": "GfCSAj_30by7"
      },
      "source": [
        "\r\n",
        "There are empty data from the Province and City columns. We can fill this data based on Latitude and Longitude."
      ]
    },
    {
      "cell_type": "code",
      "metadata": {
        "id": "uyuEnRqv0Sof"
      },
      "source": [
        "#Create df_test_city which is City, Lat, and Long data that is not null\r\n",
        "df_test_city = df2[(df2['city'].notnull()) & (df2['latitude'].notnull()) & (df2['longitude'].notnull())]\r\n",
        "\r\n",
        "#Create df_predict_city which is city data that is empty, but Lat and Long are not null\r\n",
        "df_predict_city = df2[(df2['city'].isnull()) & (df2['latitude'].notnull()) & (df2['longitude'].notnull())]"
      ],
      "execution_count": null,
      "outputs": []
    },
    {
      "cell_type": "code",
      "metadata": {
        "colab": {
          "base_uri": "https://localhost:8080/"
        },
        "id": "4LDtdHax0ffK",
        "outputId": "de02b0fc-8246-45d4-a61d-21a56e1591b5"
      },
      "source": [
        "len(df_predict_city)"
      ],
      "execution_count": null,
      "outputs": [
        {
          "output_type": "execute_result",
          "data": {
            "text/plain": [
              "426"
            ]
          },
          "metadata": {
            "tags": []
          },
          "execution_count": 20
        }
      ]
    },
    {
      "cell_type": "markdown",
      "metadata": {
        "id": "vFlKjVxz02Fs"
      },
      "source": [
        "The data values are empty in City but Latitude and Longitude are not empty. There are 426 data from 434 City data that are empty. This means we can fill almost all City data that is empty."
      ]
    },
    {
      "cell_type": "code",
      "metadata": {
        "id": "cCTJ6Fvw0z2e"
      },
      "source": [
        "def fill_city(df):\r\n",
        "    lat_diff = np.abs(df['latitude'] - df_test_city['latitude'])\r\n",
        "    long_diff = np.abs(df['longitude'] - df_test_city['longitude'])\r\n",
        "    diff = lat_diff+long_diff\r\n",
        "    index_min = np.argmin(diff,axis=0,out=None)\r\n",
        "    return df_test_city['city'].loc[index_min]"
      ],
      "execution_count": null,
      "outputs": []
    },
    {
      "cell_type": "code",
      "metadata": {
        "id": "CKifYLLe04G_"
      },
      "source": [
        "idx_city_change = df_predict_city.index\r\n",
        "df_test_city=df_test_city.reset_index(drop=True)"
      ],
      "execution_count": null,
      "outputs": []
    },
    {
      "cell_type": "code",
      "metadata": {
        "id": "HkxWIKFY1AN-"
      },
      "source": [
        "# Fill in the empty city data using apply\r\n",
        "df2.loc[idx_city_change, 'city'] = df_predict_city.apply(fill_city, axis=1)"
      ],
      "execution_count": null,
      "outputs": []
    },
    {
      "cell_type": "code",
      "metadata": {
        "colab": {
          "base_uri": "https://localhost:8080/"
        },
        "id": "zChdWBav1DyP",
        "outputId": "22eab27a-bb03-4e49-e997-363d7b00eb81"
      },
      "source": [
        "df2.isnull().sum()"
      ],
      "execution_count": null,
      "outputs": [
        {
          "output_type": "execute_result",
          "data": {
            "text/plain": [
              "latitude            4556\n",
              "longitude           4557\n",
              "nperpcap           69489\n",
              "nkill              10313\n",
              "nkillter           66958\n",
              "nwound             16311\n",
              "nwoundte           69143\n",
              "eventid                0\n",
              "iyear                  0\n",
              "imonth                 0\n",
              "iday                   0\n",
              "extended               0\n",
              "crit1                  0\n",
              "crit2                  0\n",
              "crit3                  0\n",
              "multiple               1\n",
              "country                0\n",
              "country_txt            0\n",
              "region                 0\n",
              "region_txt             0\n",
              "city                   8\n",
              "specificity            6\n",
              "attacktype1            0\n",
              "attacktype1_txt        0\n",
              "success                0\n",
              "suicide                0\n",
              "weaptype1              0\n",
              "weaptype1_txt          0\n",
              "targtype1              0\n",
              "targtype1_txt          0\n",
              "natlty1             1559\n",
              "natlty1_txt         1559\n",
              "individual             0\n",
              "gname                  0\n",
              "claimed            66120\n",
              "property               0\n",
              "doubtterr              1\n",
              "provstate            421\n",
              "dtype: int64"
            ]
          },
          "metadata": {
            "tags": []
          },
          "execution_count": 24
        }
      ]
    },
    {
      "cell_type": "markdown",
      "metadata": {
        "id": "edSjjTFn1ctc"
      },
      "source": [
        "\r\n",
        "8 City data remaining that are still empty. We will drop the data, because the amount is not too much."
      ]
    },
    {
      "cell_type": "code",
      "metadata": {
        "id": "1EnBRS5L1X7x"
      },
      "source": [
        "df2 = df2.dropna(subset=['city'])"
      ],
      "execution_count": null,
      "outputs": []
    },
    {
      "cell_type": "markdown",
      "metadata": {
        "id": "6A2vgalp1kvb"
      },
      "source": [
        "# **Fill in Missing Value for Province**\r\n",
        "Filling missing Province values almost the same as City, which is looking for the nearest latitude and longitude. Based on the information, the number of missing province values are 421."
      ]
    },
    {
      "cell_type": "code",
      "metadata": {
        "id": "zW3JEX4r1fRs"
      },
      "source": [
        "df_test_province = df2[(df2['provstate'].notnull()) & (df2['latitude'].notnull()) & (df2['longitude'].notnull())]\r\n",
        "df_predict_province = df2[(df2['provstate'].isnull()) & (df2['latitude'].notnull()) & (df2['longitude'].notnull())]"
      ],
      "execution_count": null,
      "outputs": []
    },
    {
      "cell_type": "code",
      "metadata": {
        "colab": {
          "base_uri": "https://localhost:8080/"
        },
        "id": "4kLqRxex2QxU",
        "outputId": "e09c653c-6100-483c-8439-49ef2ac6f002"
      },
      "source": [
        "len(df_predict_province)"
      ],
      "execution_count": null,
      "outputs": [
        {
          "output_type": "execute_result",
          "data": {
            "text/plain": [
              "409"
            ]
          },
          "metadata": {
            "tags": []
          },
          "execution_count": 27
        }
      ]
    },
    {
      "cell_type": "markdown",
      "metadata": {
        "id": "702-XcGT2kWS"
      },
      "source": [
        "409 data to be filled out of 421 NaN Province data"
      ]
    },
    {
      "cell_type": "code",
      "metadata": {
        "id": "mPrvn4gH2iPH"
      },
      "source": [
        "def fill_province(df):\r\n",
        "    lat_diff = np.abs(df['latitude'] - df_test_province['latitude'])\r\n",
        "    long_diff = np.abs(df['longitude'] - df_test_province['longitude'])\r\n",
        "    diff = lat_diff+long_diff\r\n",
        "    index_min = np.argmin(diff)\r\n",
        "    return df_test_province['provstate'].loc[index_min]"
      ],
      "execution_count": null,
      "outputs": []
    },
    {
      "cell_type": "code",
      "metadata": {
        "id": "2l2cNHiU2rSR"
      },
      "source": [
        "idx_prov_change = df_predict_province.index\r\n",
        "df_test_province=df_test_province.reset_index(drop=True)"
      ],
      "execution_count": null,
      "outputs": []
    },
    {
      "cell_type": "code",
      "metadata": {
        "id": "tPiIN2Xz2uHP"
      },
      "source": [
        "df2.loc[idx_prov_change, 'provstate'] = df_predict_province.apply(fill_province, axis=1)"
      ],
      "execution_count": null,
      "outputs": []
    },
    {
      "cell_type": "markdown",
      "metadata": {
        "id": "K_0qM8oi228h"
      },
      "source": [
        "Similar to city data, we will also drop Provincial data which is still empty."
      ]
    },
    {
      "cell_type": "code",
      "metadata": {
        "id": "V06nLQRI2w_3"
      },
      "source": [
        "df2 = df2.dropna(subset=['provstate'])"
      ],
      "execution_count": null,
      "outputs": []
    },
    {
      "cell_type": "markdown",
      "metadata": {
        "id": "9KmNjBQS28eB"
      },
      "source": [
        "# **Fill Latitude and Longitude**"
      ]
    },
    {
      "cell_type": "code",
      "metadata": {
        "colab": {
          "base_uri": "https://localhost:8080/"
        },
        "id": "itDrmpXL26Gi",
        "outputId": "03cb6040-c54e-4ec5-d784-4082dd4d2e44"
      },
      "source": [
        "df2[df2.latitude.isnull()]['city'].value_counts()"
      ],
      "execution_count": null,
      "outputs": [
        {
          "output_type": "execute_result",
          "data": {
            "text/plain": [
              "Unknown        2239\n",
              "unknown          46\n",
              "Nationwide       24\n",
              "Nationwide*      17\n",
              "Puerto Rico      14\n",
              "               ... \n",
              "Yoque-Am          1\n",
              "Vergel            1\n",
              "Hisar             1\n",
              "La Casita         1\n",
              "Kupeli            1\n",
              "Name: city, Length: 1859, dtype: int64"
            ]
          },
          "metadata": {
            "tags": []
          },
          "execution_count": 32
        }
      ]
    },
    {
      "cell_type": "code",
      "metadata": {
        "colab": {
          "base_uri": "https://localhost:8080/"
        },
        "id": "tb9cqERC3C5T",
        "outputId": "8379da07-f1a7-413d-db84-ccd6c293ec03"
      },
      "source": [
        "df2[df2.latitude.isnull()]['country'].value_counts()"
      ],
      "execution_count": null,
      "outputs": [
        {
          "output_type": "execute_result",
          "data": {
            "text/plain": [
              "61     472\n",
              "45     471\n",
              "145    398\n",
              "160    380\n",
              "159    288\n",
              "      ... \n",
              "164      1\n",
              "162      1\n",
              "197      1\n",
              "406      1\n",
              "22       1\n",
              "Name: country, Length: 141, dtype: int64"
            ]
          },
          "metadata": {
            "tags": []
          },
          "execution_count": 33
        }
      ]
    },
    {
      "cell_type": "markdown",
      "metadata": {
        "id": "DkORKPp43MqL"
      },
      "source": [
        "Lines with Lat and Long are empty, most have City values ​​in the form Unknown. Therefore, we cannot use City to fill Lat and Long. Instead, the Country column is all filled in. So that we can fill Lat and Long based on the value from Country."
      ]
    },
    {
      "cell_type": "code",
      "metadata": {
        "id": "LtM_EHcF3IQS"
      },
      "source": [
        "mean_lat_country = df2.groupby('country').mean()['latitude']\r\n",
        "mean_long_country = df2.groupby('country').mean()['longitude']"
      ],
      "execution_count": null,
      "outputs": []
    },
    {
      "cell_type": "code",
      "metadata": {
        "id": "9o4wjmFK3aKi"
      },
      "source": [
        "# Create a function to fill in the blank latitude and longitude with the mean of the latitude or longitude of the country\r\n",
        "def func_lat(df):\r\n",
        "    if pd.isnull(df.latitude):\r\n",
        "        return mean_lat_country[df.country]\r\n",
        "    else:\r\n",
        "        return df.latitude\r\n",
        "    \r\n",
        "def func_long(df):\r\n",
        "    if pd.isnull(df.longitude):\r\n",
        "        return mean_long_country[df.country]\r\n",
        "    else:\r\n",
        "        return df.longitude"
      ],
      "execution_count": null,
      "outputs": []
    },
    {
      "cell_type": "code",
      "metadata": {
        "id": "oI7Tyw8d3sLD"
      },
      "source": [
        "df2['latitude'] = df2.apply(func_lat, axis=1)"
      ],
      "execution_count": null,
      "outputs": []
    },
    {
      "cell_type": "code",
      "metadata": {
        "id": "NS-HmMXB31YY"
      },
      "source": [
        "df2['longitude'] = df2.apply(func_long, axis=1)"
      ],
      "execution_count": null,
      "outputs": []
    },
    {
      "cell_type": "code",
      "metadata": {
        "id": "GWwJ34sx35vu"
      },
      "source": [
        "# Delete Lat and Long data that is still empty\r\n",
        "df2.dropna(subset=['latitude', 'longitude'], inplace=True)"
      ],
      "execution_count": null,
      "outputs": []
    },
    {
      "cell_type": "markdown",
      "metadata": {
        "id": "1-qjOpgr4F7q"
      },
      "source": [
        "The data that is still empty is now in the NatTarget, NumberKill, and NumberWound columns. It is difficult to predict these data. We can just fill in the average number of deaths in each country. But this will damage the data. We can also do the drop, but this will cause a lot of data to be lost even though we could have done an analysis not of NatTarget, NumberKill or NumberWound. Therefore, we should leave df2 like this. The data with data without missing value will be stored in another variable"
      ]
    },
    {
      "cell_type": "code",
      "metadata": {
        "id": "Y3HXKeT14DCi"
      },
      "source": [
        "df_no_na = df2.dropna()"
      ],
      "execution_count": null,
      "outputs": []
    },
    {
      "cell_type": "markdown",
      "metadata": {
        "id": "a7rYqjk74QqO"
      },
      "source": [
        "## **Change a Categorical Column to a Type**\r\n",
        "Columns that have few unique values are usually categorical columns, we will change data types that have fewer than 25 columns to columns with data of type category"
      ]
    },
    {
      "cell_type": "code",
      "metadata": {
        "colab": {
          "base_uri": "https://localhost:8080/"
        },
        "id": "2ZsN2Mh34J8t",
        "outputId": "2fa71cd0-446a-4d0f-cd93-50a3e20b3837"
      },
      "source": [
        "cat_column = []\r\n",
        "for i in range(len(df2.columns)):\r\n",
        "    if df2.nunique()[i] < 25:\r\n",
        "        cat_column.append(df2.nunique().index[i])\r\n",
        "        df2[df2.nunique().index[i]] = df2[df2.nunique().index[i]].astype('category')\r\n",
        "cat_column"
      ],
      "execution_count": null,
      "outputs": [
        {
          "output_type": "execute_result",
          "data": {
            "text/plain": [
              "['imonth',\n",
              " 'extended',\n",
              " 'crit1',\n",
              " 'crit2',\n",
              " 'crit3',\n",
              " 'multiple',\n",
              " 'region',\n",
              " 'region_txt',\n",
              " 'specificity',\n",
              " 'attacktype1',\n",
              " 'attacktype1_txt',\n",
              " 'success',\n",
              " 'suicide',\n",
              " 'weaptype1',\n",
              " 'weaptype1_txt',\n",
              " 'targtype1',\n",
              " 'targtype1_txt',\n",
              " 'individual',\n",
              " 'claimed',\n",
              " 'property',\n",
              " 'doubtterr']"
            ]
          },
          "metadata": {
            "tags": []
          },
          "execution_count": 40
        }
      ]
    },
    {
      "cell_type": "code",
      "metadata": {
        "id": "7EVzHZJ9FOZf"
      },
      "source": [
        "df2.to_csv('Data.csv')"
      ],
      "execution_count": null,
      "outputs": []
    }
  ]
}